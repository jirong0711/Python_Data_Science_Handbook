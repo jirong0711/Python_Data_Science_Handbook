{
 "cells": [
  {
   "cell_type": "code",
   "execution_count": 2,
   "metadata": {},
   "outputs": [],
   "source": [
    "%matplotlib inline\n",
    "import numpy as np\n",
    "import matplotlib.pyplot as plt\n",
    "plt.style.use(\"seaborn-white\")"
   ]
  },
  {
   "cell_type": "code",
   "execution_count": 4,
   "metadata": {},
   "outputs": [
    {
     "name": "stderr",
     "output_type": "stream",
     "text": [
      "C:\\Users\\qkffp\\anaconda3\\lib\\site-packages\\ipykernel_launcher.py:7: MatplotlibDeprecationWarning: \n",
      "The 'normed' kwarg was deprecated in Matplotlib 2.1 and will be removed in 3.1. Use 'density' instead.\n",
      "  import sys\n",
      "C:\\Users\\qkffp\\anaconda3\\lib\\site-packages\\ipykernel_launcher.py:8: MatplotlibDeprecationWarning: \n",
      "The 'normed' kwarg was deprecated in Matplotlib 2.1 and will be removed in 3.1. Use 'density' instead.\n",
      "  \n",
      "C:\\Users\\qkffp\\anaconda3\\lib\\site-packages\\ipykernel_launcher.py:9: MatplotlibDeprecationWarning: \n",
      "The 'normed' kwarg was deprecated in Matplotlib 2.1 and will be removed in 3.1. Use 'density' instead.\n",
      "  if __name__ == '__main__':\n"
     ]
    },
    {
     "data": {
      "text/plain": [
       "(array([0.00297872, 0.00595744, 0.01191488, 0.00297872, 0.0148936 ,\n",
       "        0.0148936 , 0.01191488, 0.02978721, 0.04765953, 0.05659569,\n",
       "        0.08042546, 0.11914883, 0.11914883, 0.12212755, 0.18170197,\n",
       "        0.16085092, 0.16382964, 0.18765941, 0.17574453, 0.15489348,\n",
       "        0.19957429, 0.2144679 , 0.16382964, 0.16382964, 0.13702116,\n",
       "        0.10723395, 0.10127651, 0.08340418, 0.02978721, 0.01787232,\n",
       "        0.02680849, 0.02680849, 0.01787232, 0.00595744, 0.00595744,\n",
       "        0.00297872, 0.        , 0.00297872, 0.00297872, 0.00297872]),\n",
       " array([-3.36935157, -3.03363699, -2.69792241, -2.36220783, -2.02649325,\n",
       "        -1.69077866, -1.35506408, -1.0193495 , -0.68363492, -0.34792034,\n",
       "        -0.01220576,  0.32350882,  0.6592234 ,  0.99493798,  1.33065256,\n",
       "         1.66636714,  2.00208172,  2.3377963 ,  2.67351088,  3.00922546,\n",
       "         3.34494004,  3.68065462,  4.01636921,  4.35208379,  4.68779837,\n",
       "         5.02351295,  5.35922753,  5.69494211,  6.03065669,  6.36637127,\n",
       "         6.70208585,  7.03780043,  7.37351501,  7.70922959,  8.04494417,\n",
       "         8.38065875,  8.71637333,  9.05208791,  9.3878025 ,  9.72351708,\n",
       "        10.05923166]),\n",
       " <a list of 1 Patch objects>)"
      ]
     },
     "execution_count": 4,
     "metadata": {},
     "output_type": "execute_result"
    },
    {
     "data": {
      "image/png": "[encoded data removed]",
      "text/plain": [
       "<Figure size 432x288 with 1 Axes>"
      ]
     },
     "metadata": {},
     "output_type": "display_data"
    }
   ],
   "source": [
    "x1 = np.random.normal(0,0.8,1000)\n",
    "x2 = np.random.normal(-2,1,1000)\n",
    "x3 = np.random.normal(3,2,1000)\n",
    "\n",
    "kwargs = dict(histtype=\"stepfilled\", alpha=0.3, normed=True, bins=40)\n",
    "\n",
    "plt.hist(x1, **kwargs)\n",
    "plt.hist(x2, **kwargs)\n",
    "plt.hist(x3, **kwargs)"
   ]
  },
  {
   "cell_type": "code",
   "execution_count": 6,
   "metadata": {},
   "outputs": [
    {
     "data": {
      "image/png": "[encoded data removed]",
      "text/plain": [
       "<Figure size 432x288 with 2 Axes>"
      ]
     },
     "metadata": {},
     "output_type": "display_data"
    }
   ],
   "source": [
    "#2차원 히스토그램\n",
    "mean = [0,0]\n",
    "cov = [[1,1],[1,2]]\n",
    "\n",
    "x,y = np.random.multivariate_normal(mean,cov,10000).T\n",
    "plt.hist2d(x,y,bins=30, cmap=\"Blues\")\n",
    "cb=plt.colorbar()\n",
    "cb.set_label(\"counts in bin\")"
   ]
  }
 ],
 "metadata": {
  "kernelspec": {
   "display_name": "Python 3",
   "language": "python",
   "name": "python3"
  },
  "language_info": {
   "codemirror_mode": {
    "name": "ipython",
    "version": 3
   },
   "file_extension": ".py",
   "mimetype": "text/x-python",
   "name": "python",
   "nbconvert_exporter": "python",
   "pygments_lexer": "ipython3",
   "version": "3.7.6"
  }
 },
 "nbformat": 4,
 "nbformat_minor": 4
}
